{
  "cells": [
    {
      "cell_type": "code",
      "execution_count": null,
      "metadata": {
        "id": "egpvhkpmjklo"
      },
      "outputs": [],
      "source": [
        "import os\n",
        "from openai import OpenAI\n",
        "import sys\n",
        "sys.path.append('../..')\n",
        "\n",
        "from dotenv import load_dotenv, find_dotenv\n",
        "_ = load_dotenv(find_dotenv()) # read local .env file\n",
        "\n",
        "client = OpenAI(api_key  = os.getenv('OPENAI_API_KEY'))"
      ]
    },
    {
      "cell_type": "markdown",
      "metadata": {
        "id": "SvCEAxWkjklr"
      },
      "source": [
        "# ## PDFs\n",
        "#\n",
        "##### Let's load a PDF [transcript](https://see.stanford.edu/materials/aimlcs229/transcripts/MachineLearning-Lecture01.pdf) from Andrew Ng's famous CS229 course! These documents are the result of automated transcription so words and sentences are sometimes split unexpectedly.\n",
        "\n",
        "##### The course will show the pip installs you would need to install packages on your own machine.\n",
        "##### These packages are already installed on this platform and should not be run again.\n"
      ]
    },
    {
      "cell_type": "code",
      "execution_count": null,
      "metadata": {
        "id": "QoWfiB7njkls"
      },
      "outputs": [],
      "source": [
        "from langchain_community.document_loaders import PyPDFLoader\n",
        "loader = PyPDFLoader(\"https://www.sfbu.edu/sites/default/files/2022-12/2023Catalog.pdf\")\n",
        "pages = loader.load()"
      ]
    },
    {
      "cell_type": "markdown",
      "metadata": {
        "id": "Cx_uGOPQjklt"
      },
      "source": [
        "#### Each page is a `Document`.\n",
        "#\n",
        "#### A `Document` contains text (`page_content`) and `metadata`."
      ]
    },
    {
      "cell_type": "code",
      "execution_count": null,
      "metadata": {
        "id": "rQoFh7T4jklu",
        "outputId": "2981bddf-14fe-49f0-ed61-f122dde1199f"
      },
      "outputs": [
        {
          "data": {
            "text/plain": [
              "197"
            ]
          },
          "execution_count": 25,
          "metadata": {},
          "output_type": "execute_result"
        }
      ],
      "source": [
        "len(pages)"
      ]
    },
    {
      "cell_type": "code",
      "execution_count": null,
      "metadata": {
        "id": "hXeyu_NDjklv"
      },
      "outputs": [],
      "source": [
        "page = pages[0]"
      ]
    },
    {
      "cell_type": "code",
      "execution_count": null,
      "metadata": {
        "id": "gwWtpFUsjklv",
        "outputId": "2165da34-b571-45ba-cc85-3796402e44ce"
      },
      "outputs": [
        {
          "name": "stdout",
          "output_type": "stream",
          "text": [
            "Catalog 202 3 i ver. 202 3.09.24 \n",
            "161 Mission Falls Lane, Fremont, CA 94539  \n",
            "Tel: (510) 803-SFBU ( 7328); e -mail: admissions@sfbu.edu  \n",
            " \n",
            " \n",
            "2023 CATALOG                           JAN 1 - DEC 31, 2023   \n",
            "  \n",
            "  \n"
          ]
        }
      ],
      "source": [
        "print(page.page_content[0:500])"
      ]
    },
    {
      "cell_type": "code",
      "execution_count": null,
      "metadata": {
        "id": "cnGV-Aqtjklw",
        "outputId": "ab45598d-a573-4245-c5cf-37b2c8ce8e99"
      },
      "outputs": [
        {
          "data": {
            "text/plain": [
              "{'source': 'https://www.sfbu.edu/sites/default/files/2022-12/2023Catalog.pdf',\n",
              " 'page': 0}"
            ]
          },
          "execution_count": 28,
          "metadata": {},
          "output_type": "execute_result"
        }
      ],
      "source": [
        "page.metadata"
      ]
    },
    {
      "cell_type": "markdown",
      "metadata": {
        "id": "ej0fndhojklx"
      },
      "source": [
        "# ## YouTube"
      ]
    },
    {
      "cell_type": "code",
      "execution_count": null,
      "metadata": {
        "id": "KaG0MiX8jkly"
      },
      "outputs": [],
      "source": [
        "from langchain_community.document_loaders.generic import GenericLoader\n",
        "from langchain_community.document_loaders.parsers import OpenAIWhisperParser\n",
        "from langchain_community.document_loaders.blob_loaders.youtube_audio import YoutubeAudioLoader"
      ]
    },
    {
      "cell_type": "markdown",
      "metadata": {
        "id": "7TzXiPZpjkly"
      },
      "source": [
        "###### **Note**: This can take several minutes to complete."
      ]
    },
    {
      "cell_type": "code",
      "execution_count": null,
      "metadata": {
        "id": "UqdLs0VJjklz",
        "outputId": "5c6a80fb-749a-4d04-f318-05aa88c07408"
      },
      "outputs": [
        {
          "name": "stdout",
          "output_type": "stream",
          "text": [
            "[youtube] Extracting URL: https://youtu.be/AuDodQm7nm8?si=QgtvcsNofH8vqbn0\n",
            "[youtube] AuDodQm7nm8: Downloading webpage\n",
            "[youtube] AuDodQm7nm8: Downloading ios player API JSON\n",
            "[youtube] AuDodQm7nm8: Downloading android player API JSON\n",
            "[youtube] AuDodQm7nm8: Downloading m3u8 information\n",
            "[info] AuDodQm7nm8: Downloading 1 format(s): 140\n",
            "[download] docs/youtube//SFBU DeepPiCar： Voice Control.m4a has already been downloaded\n",
            "[download] 100% of  228.93KiB\n",
            "[ExtractAudio] Not converting audio docs/youtube//SFBU DeepPiCar： Voice Control.m4a; file is already in target format m4a\n",
            "Transcribing part 1!\n"
          ]
        },
        {
          "data": {
            "text/plain": [
              "'Move forward.'"
            ]
          },
          "execution_count": 3,
          "metadata": {},
          "output_type": "execute_result"
        }
      ],
      "source": [
        "url=\"https://youtu.be/AuDodQm7nm8?si=QgtvcsNofH8vqbn0\"\n",
        "save_dir=\"docs/youtube/\"\n",
        "loader = GenericLoader(\n",
        "    YoutubeAudioLoader([url],save_dir),\n",
        "    OpenAIWhisperParser()\n",
        ")\n",
        "docs = loader.load()\n",
        "docs[0].page_content[0:500]"
      ]
    },
    {
      "cell_type": "markdown",
      "metadata": {
        "id": "Sm80Mv-9jkl0"
      },
      "source": [
        "# ## URLs"
      ]
    },
    {
      "cell_type": "code",
      "execution_count": null,
      "metadata": {
        "id": "2_aBdZndjkl0"
      },
      "outputs": [],
      "source": [
        "from langchain_community.document_loaders import WebBaseLoader\n",
        "\n",
        "loader = WebBaseLoader(\"https://www.sfbu.edu/about-us\")"
      ]
    },
    {
      "cell_type": "code",
      "execution_count": null,
      "metadata": {
        "id": "FR50VvZLjkl1"
      },
      "outputs": [],
      "source": [
        "docs = loader.load()"
      ]
    },
    {
      "cell_type": "code",
      "execution_count": null,
      "metadata": {
        "id": "4Wprl0pPjkl2",
        "outputId": "5a60521e-c9e4-4dfc-9315-db6391e366af"
      },
      "outputs": [
        {
          "name": "stdout",
          "output_type": "stream",
          "text": [
            "\n",
            "\n",
            "\n",
            "\n",
            "\n",
            "\n",
            "\n",
            "\n",
            "\n",
            "\n",
            "\n",
            "\n",
            "\n",
            "\n",
            "\n",
            "\n",
            "\n",
            "\n",
            "\n",
            "\n",
            "About SFBU | San Francisco Bay University\n",
            "\n",
            "\n",
            "\n",
            "\n",
            "\n",
            "\n",
            "\n",
            "\n",
            "\n",
            "\n",
            "\n",
            "\n",
            "\n",
            "\n",
            "\n",
            "\n",
            "\n",
            "\n",
            "\n",
            "\n",
            "\n",
            "\n",
            "\n",
            "\n",
            "\n",
            "\n",
            "\n",
            "\n",
            "\n",
            "\n",
            "\n",
            "\n",
            "\n",
            "\n",
            "\n",
            "\n",
            "\n",
            "\n",
            "\n",
            "\n",
            "\n",
            "      Skip to main content\n",
            "    \n",
            "\n",
            "\n",
            " \n",
            "\n",
            "\n",
            "\n",
            "\n",
            "\n",
            "\n",
            "\n",
            "\n",
            "\n",
            "\n",
            "\n",
            "\n",
            "\n",
            "\n",
            "\n",
            "Main navigation\n",
            "\n",
            "\n",
            "About Us\n",
            "\n",
            "\n",
            "Overview\n",
            "\n",
            "\n",
            "University Leadership\n",
            "\n",
            "\n",
            "Strategic Plan\n",
            "\n",
            "\n",
            "Accreditation\n",
            "\n",
            "\n",
            "Policies\n",
            "\n",
            "\n",
            "Careers\n",
            "\n",
            "\n",
            "\n",
            "\n",
            "Admissions\n",
            "\n",
            "\n",
            "Requirements for Degree Programs\n",
            "\n",
            "\n",
            "Requirements for Intensive English Program\n",
            "\n",
            "\n",
            "Scholarships\n",
            "\n",
            "\n",
            "Tuition & Costs\n",
            "\n",
            "\n",
            "Articulation & Transfer Agreements\n",
            "\n",
            "\n",
            "Contact Admissions Team\n",
            "\n",
            "\n",
            "Admitted Students\n",
            "\n",
            "\n",
            "\n",
            "\n",
            "Academics\n",
            "\n",
            "\n",
            "Sch\n"
          ]
        }
      ],
      "source": [
        "print(docs[0].page_content[:500])"
      ]
    }
  ],
  "metadata": {
    "kernelspec": {
      "display_name": "venv",
      "language": "python",
      "name": "python3"
    },
    "language_info": {
      "codemirror_mode": {
        "name": "ipython",
        "version": 3
      },
      "file_extension": ".py",
      "mimetype": "text/x-python",
      "name": "python",
      "nbconvert_exporter": "python",
      "pygments_lexer": "ipython3",
      "version": "3.10.12"
    },
    "colab": {
      "provenance": []
    }
  },
  "nbformat": 4,
  "nbformat_minor": 0
}